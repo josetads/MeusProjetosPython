{
  "cells": [
    {
      "cell_type": "code",
      "execution_count": 1,
      "metadata": {
        "id": "XbCRAfF88UiB"
      },
      "outputs": [],
      "source": [
        "#Projeto Entradas e Saidas no Estoque - Analise e Predicoes\n",
        "######ENTRADA#######\n",
        "######SAIDA#######"
      ]
    },
    {
      "cell_type": "code",
      "source": [
        "!pip install pandas"
      ],
      "metadata": {
        "colab": {
          "base_uri": "https://localhost:8080/"
        },
        "id": "oSwb3cskBzhm",
        "outputId": "241085dd-e693-4e32-adf0-2c08c7e538b6"
      },
      "execution_count": 11,
      "outputs": [
        {
          "output_type": "stream",
          "name": "stdout",
          "text": [
            "Requirement already satisfied: pandas in /usr/local/lib/python3.10/dist-packages (2.0.3)\n",
            "Requirement already satisfied: python-dateutil>=2.8.2 in /usr/local/lib/python3.10/dist-packages (from pandas) (2.8.2)\n",
            "Requirement already satisfied: pytz>=2020.1 in /usr/local/lib/python3.10/dist-packages (from pandas) (2023.4)\n",
            "Requirement already satisfied: tzdata>=2022.1 in /usr/local/lib/python3.10/dist-packages (from pandas) (2024.1)\n",
            "Requirement already satisfied: numpy>=1.21.0 in /usr/local/lib/python3.10/dist-packages (from pandas) (1.25.2)\n",
            "Requirement already satisfied: six>=1.5 in /usr/local/lib/python3.10/dist-packages (from python-dateutil>=2.8.2->pandas) (1.16.0)\n"
          ]
        }
      ]
    },
    {
      "cell_type": "code",
      "execution_count": 12,
      "metadata": {
        "id": "CQB6EJR39dGq"
      },
      "outputs": [],
      "source": [
        "import pandas as pd\n",
        "import numpy as np\n",
        "import matplotlib.pyplot as plt"
      ]
    },
    {
      "cell_type": "code",
      "execution_count": 13,
      "metadata": {
        "id": "KIJ_Moz3ea9c",
        "colab": {
          "base_uri": "https://localhost:8080/"
        },
        "outputId": "2cc653f5-2854-4321-aa9e-01e24091544e"
      },
      "outputs": [
        {
          "output_type": "stream",
          "name": "stdout",
          "text": [
            "Mounted at /content/drive/\n"
          ]
        }
      ],
      "source": [
        "from google.colab import drive\n",
        "drive.mount('/content/drive/',force_remount=True)"
      ]
    },
    {
      "cell_type": "code",
      "source": [
        "# Carregar a tabela de entrada\n",
        "caminho_tabela_entrada = '/content/drive/MyDrive/Pos_IFAM_Aprendizagem de Maquina/TCC/EntradasEstoque.csv'"
      ],
      "metadata": {
        "id": "W8Pqgjd7J6x-"
      },
      "execution_count": 14,
      "outputs": []
    },
    {
      "cell_type": "code",
      "source": [
        "# Careegar a tabela de saída\n",
        "caminho_tabela_saida = '/content/drive/MyDrive/Pos_IFAM_Aprendizagem de Maquina/TCC/SaidasEstoque.csv'"
      ],
      "metadata": {
        "id": "AvEmcSqx4Crz"
      },
      "execution_count": 15,
      "outputs": []
    },
    {
      "cell_type": "code",
      "source": [
        "# Carregar as tabelas em DataFrames do Pandas\n",
        "tabela_entrada = pd.read_csv(caminho_tabela_entrada, encoding='ISO-8859-1',sep=';')"
      ],
      "metadata": {
        "id": "w9qKoeTHKmyg"
      },
      "execution_count": 16,
      "outputs": []
    },
    {
      "cell_type": "code",
      "source": [
        "# Carregar as tabelas em DataFrames do Pandas\n",
        "tabela_saida = pd.read_csv(caminho_tabela_saida, encoding='ISO-8859-1',sep=';')"
      ],
      "metadata": {
        "id": "jIdThtT-4PX_"
      },
      "execution_count": 17,
      "outputs": []
    },
    {
      "cell_type": "code",
      "source": [],
      "metadata": {
        "id": "NuWRfOSBKs-M"
      },
      "execution_count": 17,
      "outputs": []
    },
    {
      "cell_type": "code",
      "execution_count": 18,
      "metadata": {
        "id": "KxACXxyiXV1-",
        "colab": {
          "base_uri": "https://localhost:8080/"
        },
        "outputId": "76d5fec0-aa58-43ad-ee65-45fcf974241d"
      },
      "outputs": [
        {
          "output_type": "stream",
          "name": "stdout",
          "text": [
            "Dados da tabela de ENTRADA\n",
            "        Item     DATAMOV  NROMOV DESTINO TIPOGIRO  PRODUTO     QUANT  \\\n",
            "194      195  04/10/2010       1   AA001        C   1890.0        50   \n",
            "195      196  04/10/2010       2   AA001        C   1820.0   1004090   \n",
            "196      197  04/10/2010       2   AA001        C   1648.0  29258090   \n",
            "197      198  04/10/2010      18   AA030        C    644.0        39   \n",
            "198      199  04/10/2010      20   AA103        C   1973.0        27   \n",
            "...      ...         ...     ...     ...      ...      ...       ...   \n",
            "18763  18764  25/10/2021       6   AA001        C   3739.0       400   \n",
            "18764  18765  25/10/2021       9   AA001        C   3775.0   1344500   \n",
            "18765  18766  26/10/2021      14   AA001        C   3775.0   2024560   \n",
            "18766  18767  12/03/2022       1   AA001        C   3794.0    350000   \n",
            "18767  18768  24/05/2022       1   AA001        C    443.0      1800   \n",
            "\n",
            "          NROLOTE  DATAFABRIC    DATAVENC  \n",
            "194             A  18/08/2010  18/08/2014  \n",
            "195             A  01/10/2010  11/01/2011  \n",
            "196             A  01/10/2010  23/12/2010  \n",
            "197             A  20/09/2010  27/03/2011  \n",
            "198             A  12/08/2010  08/06/2011  \n",
            "...           ...         ...         ...  \n",
            "18763      536585  22/10/2021  22/10/2022  \n",
            "18764     C4-3961  25/10/2021  21/01/2022  \n",
            "18765    C4-3980m  26/10/2021  21/01/2022  \n",
            "18766       AKR15  01/02/2021  31/10/2024  \n",
            "18767  C4-981948m  01/01/2022  01/08/2024  \n",
            "\n",
            "[18573 rows x 10 columns]\n",
            "------------------------------------------------------------------------\n",
            "------------------------------------------------------------------------\n"
          ]
        }
      ],
      "source": [
        "print('Dados da tabela de ENTRADA')\n",
        "df_limpoentra = tabela_entrada.dropna()  #Limpando valores nulos da tabela\n",
        "print(df_limpoentra)\n",
        "print('------------------------------------------------------------------------')\n",
        "print('------------------------------------------------------------------------')"
      ]
    },
    {
      "cell_type": "code",
      "source": [
        "#Tabela de saida do estoque\n",
        "print('Dados da tabela de SAÍDA')\n",
        "print(tabela_saida)"
      ],
      "metadata": {
        "colab": {
          "base_uri": "https://localhost:8080/"
        },
        "id": "a6ev8vXoVOje",
        "outputId": "a8297309-81fd-499e-a382-c6fb2b296097"
      },
      "execution_count": 21,
      "outputs": [
        {
          "output_type": "stream",
          "name": "stdout",
          "text": [
            "Dados da tabela de SAÍDA\n",
            "        Item     DATAMOV  NROMOV TIPOGIRO ORIGEM  PRODUTO  QUANT  DATAENTRA  \\\n",
            "0          1  04/10/2010       3        C  AA017      306     10        NaN   \n",
            "1          2  04/10/2010       3        C  AA018      327  10000        NaN   \n",
            "2          3  04/10/2010       3        C  AA019      331  25000        NaN   \n",
            "3          4  04/10/2010       3        C  AA021      341  10000        NaN   \n",
            "4          5  04/10/2010       3        C  AA028      578  10000        NaN   \n",
            "...      ...         ...     ...      ...    ...      ...    ...        ...   \n",
            "18763  18764  23/02/2011      17        C  AA112     2050      2        NaN   \n",
            "18764  18765  23/02/2011      17        C  AA115     2066      2        NaN   \n",
            "18765  18766  23/02/2011      17        C  AA117     2100      2        NaN   \n",
            "18766  18767  23/02/2011      17        C  AA124     2126      3        NaN   \n",
            "18767  18768  23/02/2011      17        C  AA124     2126      3        NaN   \n",
            "\n",
            "      NROLOTE  DATAFABRIC    DATAVENC  \n",
            "0           1         NaN  25/12/2010  \n",
            "1           1         NaN  18/12/2010  \n",
            "2           1         NaN  08/02/2011  \n",
            "3           1         NaN  31/12/2100  \n",
            "4           1         NaN  30/11/2010  \n",
            "...       ...         ...         ...  \n",
            "18763   81458  01/01/2011  27/09/2011  \n",
            "18764   70657  23/08/2010  23/08/2011  \n",
            "18765   81458  01/01/2011  21/09/2011  \n",
            "18766   71150  14/10/2010  06/06/2011  \n",
            "18767   71150  14/10/2010  06/06/2011  \n",
            "\n",
            "[18768 rows x 11 columns]\n"
          ]
        }
      ]
    },
    {
      "cell_type": "code",
      "source": [
        "# Calcular a diferença entre as colunas QUANT das duas tabelas\n",
        "diferenca_quant = tabela_saida['QUANT'].sum() - tabela_entrada['QUANT'].sum()"
      ],
      "metadata": {
        "id": "ebz4YtKqLS2z"
      },
      "execution_count": 22,
      "outputs": []
    },
    {
      "cell_type": "code",
      "source": [
        "print(\"Diferença entre a soma das colunas QUANT da tabela de saída e entrada:\", diferenca_quant)"
      ],
      "metadata": {
        "colab": {
          "base_uri": "https://localhost:8080/"
        },
        "id": "EJHqqOtsK-R2",
        "outputId": "e70c667f-d35e-4f83-a293-2a332b296b22"
      },
      "execution_count": 23,
      "outputs": [
        {
          "output_type": "stream",
          "name": "stdout",
          "text": [
            "Diferença entre a soma das colunas QUANT da tabela de saída e entrada: -7464210586\n"
          ]
        }
      ]
    },
    {
      "cell_type": "code",
      "source": [],
      "metadata": {
        "id": "roezoO8oLKEX"
      },
      "execution_count": 23,
      "outputs": []
    },
    {
      "cell_type": "code",
      "source": [
        "# Plotar as colunas QUANT das duas tabelas\n",
        "plt.figure(figsize=(10, 6))"
      ],
      "metadata": {
        "colab": {
          "base_uri": "https://localhost:8080/",
          "height": 52
        },
        "id": "8JLmO2snOf5Z",
        "outputId": "99243802-cff0-4dfe-f669-02df90a781d7"
      },
      "execution_count": 24,
      "outputs": [
        {
          "output_type": "execute_result",
          "data": {
            "text/plain": [
              "<Figure size 1000x600 with 0 Axes>"
            ]
          },
          "metadata": {},
          "execution_count": 24
        },
        {
          "output_type": "display_data",
          "data": {
            "text/plain": [
              "<Figure size 1000x600 with 0 Axes>"
            ]
          },
          "metadata": {}
        }
      ]
    },
    {
      "cell_type": "code",
      "source": [
        "# Plotar a coluna QUANT da tabela de entrada\n",
        "plt.plot(tabela_entrada['QUANT'], label='Tabela de Entrada', color='blue')"
      ],
      "metadata": {
        "colab": {
          "base_uri": "https://localhost:8080/",
          "height": 462
        },
        "id": "Sf-lQ0S6OgRy",
        "outputId": "6c1a21ef-52fe-4c16-cbeb-f4ad418a53fa"
      },
      "execution_count": 25,
      "outputs": [
        {
          "output_type": "execute_result",
          "data": {
            "text/plain": [
              "[<matplotlib.lines.Line2D at 0x7f2a7b010940>]"
            ]
          },
          "metadata": {},
          "execution_count": 25
        },
        {
          "output_type": "display_data",
          "data": {
            "text/plain": [
              "<Figure size 640x480 with 1 Axes>"
            ],
            "image/png": "[encoded data removed]"
          },
          "metadata": {}
        }
      ]
    },
    {
      "cell_type": "code",
      "source": [
        "# Plotar a coluna QUANT da tabela de saída\n",
        "plt.plot(tabela_saida['QUANT'], label='Tabela de Saída', color='red')"
      ],
      "metadata": {
        "colab": {
          "base_uri": "https://localhost:8080/",
          "height": 462
        },
        "id": "c_C79qd8OsM3",
        "outputId": "8be8a2e0-f976-4ca9-d27e-749b8e297803"
      },
      "execution_count": 26,
      "outputs": [
        {
          "output_type": "execute_result",
          "data": {
            "text/plain": [
              "[<matplotlib.lines.Line2D at 0x7f2a484c6860>]"
            ]
          },
          "metadata": {},
          "execution_count": 26
        },
        {
          "output_type": "display_data",
          "data": {
            "text/plain": [
              "<Figure size 640x480 with 1 Axes>"
            ],
            "image/png": "[encoded data removed]"
          },
          "metadata": {}
        }
      ]
    },
    {
      "cell_type": "code",
      "source": [],
      "metadata": {
        "id": "F6sBIauyOw9d"
      },
      "execution_count": 26,
      "outputs": []
    },
    {
      "cell_type": "code",
      "source": [
        "# Calcular a média das colunas QUANT das duas tabelas\n",
        "media_entrada = tabela_entrada['QUANT'].mean()\n",
        "media_saida = tabela_saida['QUANT'].mean()"
      ],
      "metadata": {
        "id": "ZXvgEZ1GPkKD"
      },
      "execution_count": 27,
      "outputs": []
    },
    {
      "cell_type": "code",
      "source": [
        "# Preparar os dados para o gráfico de pizza\n",
        "medias = [media_entrada, media_saida]\n",
        "labels = ['Entrada', 'Saída']"
      ],
      "metadata": {
        "id": "rqVhUTYWPlUw"
      },
      "execution_count": 28,
      "outputs": []
    },
    {
      "cell_type": "code",
      "source": [
        "# Plotar o gráfico de pizza\n",
        "plt.figure(figsize=(8, 6))\n",
        "plt.pie(medias, labels=labels, autopct='%1.1f%%', startangle=140)\n",
        "plt.title('Média de Quantidade (Entrada vs. Saída)')"
      ],
      "metadata": {
        "colab": {
          "base_uri": "https://localhost:8080/",
          "height": 538
        },
        "id": "mmpqLR1rPqge",
        "outputId": "f9301b17-0f61-429c-96ed-9bbbc6a04b2f"
      },
      "execution_count": 29,
      "outputs": [
        {
          "output_type": "execute_result",
          "data": {
            "text/plain": [
              "Text(0.5, 1.0, 'Média de Quantidade (Entrada vs. Saída)')"
            ]
          },
          "metadata": {},
          "execution_count": 29
        },
        {
          "output_type": "display_data",
          "data": {
            "text/plain": [
              "<Figure size 800x600 with 1 Axes>"
            ],
            "image/png": "[encoded data removed]"
          },
          "metadata": {}
        }
      ]
    },
    {
      "cell_type": "code",
      "source": [
        "#------------------------------------------------------------------\n",
        "# Treino dos Dados, usando as dias colunas em comun nas duas tabelas"
      ],
      "metadata": {
        "id": "EuLDZJilPxgl"
      },
      "execution_count": 30,
      "outputs": []
    },
    {
      "cell_type": "code",
      "source": [
        "from sklearn.model_selection import train_test_split\n",
        "from sklearn.preprocessing import MinMaxScaler\n",
        "from keras.models import Sequential\n",
        "from keras.layers import Dense"
      ],
      "metadata": {
        "id": "y3QMMi2EXR1M"
      },
      "execution_count": 31,
      "outputs": []
    },
    {
      "cell_type": "code",
      "source": [
        "# Preparar os dados\n",
        "dados_entrada = tabela_entrada['QUANT']\n",
        "dados_saida = tabela_saida['QUANT']\n",
        "X = dados_entrada.values.reshape(-1, 1)  # Dados de entrada\n",
        "y = dados_saida.values  # Rótulos (saída)"
      ],
      "metadata": {
        "id": "mGFJUNVjXaGh"
      },
      "execution_count": 32,
      "outputs": []
    },
    {
      "cell_type": "code",
      "source": [
        "# Garantir que os mesmo numero de amostras estejam iguais nas duas tabelas: a de entrada e de saída;\n",
        "# Visualizar o número de amostras em cada tabela\n",
        "## Percebido a diferença entre o numero de amostras, inputs, entradas e saidas, vamos ajustar!!\n",
        "print(\"Número de amostras em tabela_entrada:\", len(tabela_entrada))\n",
        "print(\"Número de amostras em tabela_saida:\", len(tabela_saida))"
      ],
      "metadata": {
        "colab": {
          "base_uri": "https://localhost:8080/"
        },
        "id": "ErvAZd40bX1N",
        "outputId": "ddba364a-e9d9-417f-fd8a-6f5bc6aa71d4"
      },
      "execution_count": 33,
      "outputs": [
        {
          "output_type": "stream",
          "name": "stdout",
          "text": [
            "Número de amostras em tabela_entrada: 18768\n",
            "Número de amostras em tabela_saida: 18768\n"
          ]
        }
      ]
    },
    {
      "cell_type": "code",
      "source": [
        "# Ajustar a tabela de entrada para ter o mesmo número de amostras que a\n",
        "#tabela de saída, cortando as linhas excedentes.\n",
        "if len(tabela_entrada) > len(tabela_saida):\n",
        "    tabela_entrada = tabela_entrada.iloc[:len(tabela_saida)]\n",
        "elif len(tabela_entrada) < len(tabela_saida):\n",
        "    tabela_saida = tabela_saida.iloc[:len(tabela_entrada)]"
      ],
      "metadata": {
        "id": "t1O_nDmbbYGo"
      },
      "execution_count": 34,
      "outputs": []
    },
    {
      "cell_type": "code",
      "source": [
        "# Verificar se as dimensões estão corretas\n",
        "print(\"Número de amostras em tabela_entrada após o alinhamento:\", len(tabela_entrada))\n",
        "print(\"Número de amostras em tabela_saida após o alinhamento:\", len(tabela_saida))"
      ],
      "metadata": {
        "colab": {
          "base_uri": "https://localhost:8080/"
        },
        "id": "P2WasfwjbYTc",
        "outputId": "56bfb0ab-4af9-4214-927a-2bcc1ff9b676"
      },
      "execution_count": 35,
      "outputs": [
        {
          "output_type": "stream",
          "name": "stdout",
          "text": [
            "Número de amostras em tabela_entrada após o alinhamento: 18768\n",
            "Número de amostras em tabela_saida após o alinhamento: 18768\n"
          ]
        }
      ]
    },
    {
      "cell_type": "code",
      "source": [
        "# Dividir os dados em conjuntos de treinamento e teste\n",
        "X_train, X_test, y_train, y_test = train_test_split(X, y, test_size=0.2, random_state=42)"
      ],
      "metadata": {
        "id": "KzTaGZXiXknf"
      },
      "execution_count": 36,
      "outputs": []
    },
    {
      "cell_type": "code",
      "source": [
        "# Construir o modelo\n",
        "model = Sequential()\n",
        "model.add(Dense(8, input_dim=1, activation='relu'))\n",
        "model.add(Dense(4, activation='relu'))\n",
        "model.add(Dense(1, activation='linear'))"
      ],
      "metadata": {
        "id": "-VNuRyTeZ62y"
      },
      "execution_count": 37,
      "outputs": []
    },
    {
      "cell_type": "code",
      "source": [
        "# Compilar o modelo   #mean_squared_error e otimizador Adam\n",
        "model.compile(loss='mean_squared_error', optimizer='adam')"
      ],
      "metadata": {
        "id": "A5vlQ2lBO74P"
      },
      "execution_count": 38,
      "outputs": []
    },
    {
      "cell_type": "code",
      "source": [
        "# Treinar o modelo  # 50 epocas\n",
        "model.fit(X_train, y_train, epochs=50, batch_size=10, verbose=1)"
      ],
      "metadata": {
        "colab": {
          "base_uri": "https://localhost:8080/"
        },
        "id": "sb3il2BePAM-",
        "outputId": "d62eb63c-ae59-48b1-f67a-567abf4a896b"
      },
      "execution_count": 39,
      "outputs": [
        {
          "output_type": "stream",
          "name": "stdout",
          "text": [
            "Epoch 1/50\n",
            "1502/1502 [==============================] - 8s 3ms/step - loss: 399460335616.0000\n",
            "Epoch 2/50\n",
            "1502/1502 [==============================] - 4s 3ms/step - loss: 17023025152.0000\n",
            "Epoch 3/50\n",
            "1502/1502 [==============================] - 4s 3ms/step - loss: 15868896256.0000\n",
            "Epoch 4/50\n",
            "1502/1502 [==============================] - 6s 4ms/step - loss: 15868850176.0000\n",
            "Epoch 5/50\n",
            "1502/1502 [==============================] - 4s 3ms/step - loss: 15868779520.0000\n",
            "Epoch 6/50\n",
            "1502/1502 [==============================] - 4s 3ms/step - loss: 15868723200.0000\n",
            "Epoch 7/50\n",
            "1502/1502 [==============================] - 5s 3ms/step - loss: 15868659712.0000\n",
            "Epoch 8/50\n",
            "1502/1502 [==============================] - 4s 3ms/step - loss: 15868601344.0000\n",
            "Epoch 9/50\n",
            "1502/1502 [==============================] - 5s 3ms/step - loss: 15868510208.0000\n",
            "Epoch 10/50\n",
            "1502/1502 [==============================] - 6s 4ms/step - loss: 15868455936.0000\n",
            "Epoch 11/50\n",
            "1502/1502 [==============================] - 5s 4ms/step - loss: 15868392448.0000\n",
            "Epoch 12/50\n",
            "1502/1502 [==============================] - 6s 4ms/step - loss: 15868344320.0000\n",
            "Epoch 13/50\n",
            "1502/1502 [==============================] - 4s 3ms/step - loss: 15868262400.0000\n",
            "Epoch 14/50\n",
            "1502/1502 [==============================] - 5s 4ms/step - loss: 15868200960.0000\n",
            "Epoch 15/50\n",
            "1502/1502 [==============================] - 5s 3ms/step - loss: 15868146688.0000\n",
            "Epoch 16/50\n",
            "1502/1502 [==============================] - 4s 3ms/step - loss: 15868069888.0000\n",
            "Epoch 17/50\n",
            "1502/1502 [==============================] - 5s 3ms/step - loss: 15868004352.0000\n",
            "Epoch 18/50\n",
            "1502/1502 [==============================] - 5s 3ms/step - loss: 15867941888.0000\n",
            "Epoch 19/50\n",
            "1502/1502 [==============================] - 4s 3ms/step - loss: 15867877376.0000\n",
            "Epoch 20/50\n",
            "1502/1502 [==============================] - 5s 3ms/step - loss: 15867836416.0000\n",
            "Epoch 21/50\n",
            "1502/1502 [==============================] - 5s 3ms/step - loss: 15867757568.0000\n",
            "Epoch 22/50\n",
            "1502/1502 [==============================] - 4s 3ms/step - loss: 15867685888.0000\n",
            "Epoch 23/50\n",
            "1502/1502 [==============================] - 5s 3ms/step - loss: 15867633664.0000\n",
            "Epoch 24/50\n",
            "1502/1502 [==============================] - 5s 3ms/step - loss: 15867549696.0000\n",
            "Epoch 25/50\n",
            "1502/1502 [==============================] - 4s 3ms/step - loss: 15867475968.0000\n",
            "Epoch 26/50\n",
            "1502/1502 [==============================] - 5s 3ms/step - loss: 15867426816.0000\n",
            "Epoch 27/50\n",
            "1502/1502 [==============================] - 5s 3ms/step - loss: 15867338752.0000\n",
            "Epoch 28/50\n",
            "1502/1502 [==============================] - 4s 3ms/step - loss: 15867289600.0000\n",
            "Epoch 29/50\n",
            "1502/1502 [==============================] - 5s 3ms/step - loss: 15867226112.0000\n",
            "Epoch 30/50\n",
            "1502/1502 [==============================] - 4s 3ms/step - loss: 15867160576.0000\n",
            "Epoch 31/50\n",
            "1502/1502 [==============================] - 4s 3ms/step - loss: 15867111424.0000\n",
            "Epoch 32/50\n",
            "1502/1502 [==============================] - 6s 4ms/step - loss: 15867035648.0000\n",
            "Epoch 33/50\n",
            "1502/1502 [==============================] - 4s 3ms/step - loss: 15866955776.0000\n",
            "Epoch 34/50\n",
            "1502/1502 [==============================] - 4s 3ms/step - loss: 15866918912.0000\n",
            "Epoch 35/50\n",
            "1502/1502 [==============================] - 5s 4ms/step - loss: 15866851328.0000\n",
            "Epoch 36/50\n",
            "1502/1502 [==============================] - 4s 3ms/step - loss: 15866785792.0000\n",
            "Epoch 37/50\n",
            "1502/1502 [==============================] - 4s 3ms/step - loss: 15866716160.0000\n",
            "Epoch 38/50\n",
            "1502/1502 [==============================] - 6s 4ms/step - loss: 15866642432.0000\n",
            "Epoch 39/50\n",
            "1502/1502 [==============================] - 5s 3ms/step - loss: 15866598400.0000\n",
            "Epoch 40/50\n",
            "1502/1502 [==============================] - 5s 3ms/step - loss: 15866510336.0000\n",
            "Epoch 41/50\n",
            "1502/1502 [==============================] - 5s 3ms/step - loss: 15866467328.0000\n",
            "Epoch 42/50\n",
            "1502/1502 [==============================] - 4s 3ms/step - loss: 15866406912.0000\n",
            "Epoch 43/50\n",
            "1502/1502 [==============================] - 5s 3ms/step - loss: 15866324992.0000\n",
            "Epoch 44/50\n",
            "1502/1502 [==============================] - 5s 3ms/step - loss: 15866267648.0000\n",
            "Epoch 45/50\n",
            "1502/1502 [==============================] - 4s 3ms/step - loss: 15866202112.0000\n",
            "Epoch 46/50\n",
            "1502/1502 [==============================] - 5s 3ms/step - loss: 15866144768.0000\n",
            "Epoch 47/50\n",
            "1502/1502 [==============================] - 4s 3ms/step - loss: 15866068992.0000\n",
            "Epoch 48/50\n",
            "1502/1502 [==============================] - 4s 3ms/step - loss: 15865997312.0000\n",
            "Epoch 49/50\n",
            "1502/1502 [==============================] - 5s 4ms/step - loss: 15865935872.0000\n",
            "Epoch 50/50\n",
            "1502/1502 [==============================] - 8s 5ms/step - loss: 15865880576.0000\n"
          ]
        },
        {
          "output_type": "execute_result",
          "data": {
            "text/plain": [
              "<keras.src.callbacks.History at 0x7f29dc2658a0>"
            ]
          },
          "metadata": {},
          "execution_count": 39
        }
      ]
    },
    {
      "cell_type": "code",
      "source": [
        "# Compilar o modelo   #mean_squared_error e otimizador Adam\n",
        "model.compile(loss='mean_squared_error', optimizer='adadelta')"
      ],
      "metadata": {
        "id": "YtRG1phJD1jq"
      },
      "execution_count": 42,
      "outputs": []
    },
    {
      "cell_type": "code",
      "source": [
        "# Treinar o modelo  # 100 epocas\n",
        "model.fit(X_train, y_train, epochs=100, batch_size=10, verbose=1)"
      ],
      "metadata": {
        "colab": {
          "base_uri": "https://localhost:8080/"
        },
        "id": "ofM4TtDADG8d",
        "outputId": "218a18fb-f3c0-453f-c15b-03c4437327f4"
      },
      "execution_count": 43,
      "outputs": [
        {
          "output_type": "stream",
          "name": "stdout",
          "text": [
            "Epoch 1/100\n",
            "1502/1502 [==============================] - 5s 3ms/step - loss: 15865846784.0000\n",
            "Epoch 2/100\n",
            "1502/1502 [==============================] - 4s 3ms/step - loss: 15865847808.0000\n",
            "Epoch 3/100\n",
            "1502/1502 [==============================] - 5s 3ms/step - loss: 15865848832.0000\n",
            "Epoch 4/100\n",
            "1502/1502 [==============================] - 4s 3ms/step - loss: 15865849856.0000\n",
            "Epoch 5/100\n",
            "1502/1502 [==============================] - 4s 3ms/step - loss: 15865850880.0000\n",
            "Epoch 6/100\n",
            "1502/1502 [==============================] - 5s 3ms/step - loss: 15865854976.0000\n",
            "Epoch 7/100\n",
            "1502/1502 [==============================] - 4s 3ms/step - loss: 15865858048.0000\n",
            "Epoch 8/100\n",
            "1502/1502 [==============================] - 4s 3ms/step - loss: 15865856000.0000\n",
            "Epoch 9/100\n",
            "1502/1502 [==============================] - 5s 3ms/step - loss: 15865837568.0000\n",
            "Epoch 10/100\n",
            "1502/1502 [==============================] - 4s 3ms/step - loss: 15865846784.0000\n",
            "Epoch 11/100\n",
            "1502/1502 [==============================] - 4s 3ms/step - loss: 15865845760.0000\n",
            "Epoch 12/100\n",
            "1502/1502 [==============================] - 5s 4ms/step - loss: 15865868288.0000\n",
            "Epoch 13/100\n",
            "1502/1502 [==============================] - 4s 3ms/step - loss: 15865837568.0000\n",
            "Epoch 14/100\n",
            "1502/1502 [==============================] - 4s 3ms/step - loss: 15865840640.0000\n",
            "Epoch 15/100\n",
            "1502/1502 [==============================] - 5s 4ms/step - loss: 15865837568.0000\n",
            "Epoch 16/100\n",
            "1502/1502 [==============================] - 4s 3ms/step - loss: 15865845760.0000\n",
            "Epoch 17/100\n",
            "1502/1502 [==============================] - 4s 3ms/step - loss: 15865843712.0000\n",
            "Epoch 18/100\n",
            "1502/1502 [==============================] - 5s 3ms/step - loss: 15865840640.0000\n",
            "Epoch 19/100\n",
            "1502/1502 [==============================] - 4s 3ms/step - loss: 15865868288.0000\n",
            "Epoch 20/100\n",
            "1502/1502 [==============================] - 4s 3ms/step - loss: 15865850880.0000\n",
            "Epoch 21/100\n",
            "1502/1502 [==============================] - 5s 4ms/step - loss: 15865829376.0000\n",
            "Epoch 22/100\n",
            "1502/1502 [==============================] - 4s 3ms/step - loss: 15865836544.0000\n",
            "Epoch 23/100\n",
            "1502/1502 [==============================] - 4s 3ms/step - loss: 15865857024.0000\n",
            "Epoch 24/100\n",
            "1502/1502 [==============================] - 5s 3ms/step - loss: 15865849856.0000\n",
            "Epoch 25/100\n",
            "1502/1502 [==============================] - 4s 3ms/step - loss: 15865854976.0000\n",
            "Epoch 26/100\n",
            "1502/1502 [==============================] - 4s 3ms/step - loss: 15865838592.0000\n",
            "Epoch 27/100\n",
            "1502/1502 [==============================] - 5s 3ms/step - loss: 15865842688.0000\n",
            "Epoch 28/100\n",
            "1502/1502 [==============================] - 4s 3ms/step - loss: 15865838592.0000\n",
            "Epoch 29/100\n",
            "1502/1502 [==============================] - 4s 3ms/step - loss: 15865850880.0000\n",
            "Epoch 30/100\n",
            "1502/1502 [==============================] - 5s 3ms/step - loss: 15865832448.0000\n",
            "Epoch 31/100\n",
            "1502/1502 [==============================] - 4s 3ms/step - loss: 15865832448.0000\n",
            "Epoch 32/100\n",
            "1502/1502 [==============================] - 4s 3ms/step - loss: 15865854976.0000\n",
            "Epoch 33/100\n",
            "1502/1502 [==============================] - 5s 4ms/step - loss: 15865843712.0000\n",
            "Epoch 34/100\n",
            "1502/1502 [==============================] - 4s 3ms/step - loss: 15865843712.0000\n",
            "Epoch 35/100\n",
            "1502/1502 [==============================] - 4s 3ms/step - loss: 15865853952.0000\n",
            "Epoch 36/100\n",
            "1502/1502 [==============================] - 5s 4ms/step - loss: 15865841664.0000\n",
            "Epoch 37/100\n",
            "1502/1502 [==============================] - 4s 3ms/step - loss: 15865832448.0000\n",
            "Epoch 38/100\n",
            "1502/1502 [==============================] - 4s 3ms/step - loss: 15865853952.0000\n",
            "Epoch 39/100\n",
            "1502/1502 [==============================] - 5s 3ms/step - loss: 15865823232.0000\n",
            "Epoch 40/100\n",
            "1502/1502 [==============================] - 4s 3ms/step - loss: 15865852928.0000\n",
            "Epoch 41/100\n",
            "1502/1502 [==============================] - 4s 3ms/step - loss: 15865826304.0000\n",
            "Epoch 42/100\n",
            "1502/1502 [==============================] - 5s 3ms/step - loss: 15865830400.0000\n",
            "Epoch 43/100\n",
            "1502/1502 [==============================] - 4s 3ms/step - loss: 15865835520.0000\n",
            "Epoch 44/100\n",
            "1502/1502 [==============================] - 4s 3ms/step - loss: 15865829376.0000\n",
            "Epoch 45/100\n",
            "1502/1502 [==============================] - 5s 3ms/step - loss: 15865840640.0000\n",
            "Epoch 46/100\n",
            "1502/1502 [==============================] - 4s 3ms/step - loss: 15865853952.0000\n",
            "Epoch 47/100\n",
            "1502/1502 [==============================] - 4s 3ms/step - loss: 15865831424.0000\n",
            "Epoch 48/100\n",
            "1502/1502 [==============================] - 5s 3ms/step - loss: 15865847808.0000\n",
            "Epoch 49/100\n",
            "1502/1502 [==============================] - 4s 3ms/step - loss: 15865842688.0000\n",
            "Epoch 50/100\n",
            "1502/1502 [==============================] - 4s 3ms/step - loss: 15865836544.0000\n",
            "Epoch 51/100\n",
            "1502/1502 [==============================] - 5s 3ms/step - loss: 15865826304.0000\n",
            "Epoch 52/100\n",
            "1502/1502 [==============================] - 4s 3ms/step - loss: 15865832448.0000\n",
            "Epoch 53/100\n",
            "1502/1502 [==============================] - 4s 3ms/step - loss: 15865852928.0000\n",
            "Epoch 54/100\n",
            "1502/1502 [==============================] - 5s 3ms/step - loss: 15865842688.0000\n",
            "Epoch 55/100\n",
            "1502/1502 [==============================] - 4s 3ms/step - loss: 15865840640.0000\n",
            "Epoch 56/100\n",
            "1502/1502 [==============================] - 4s 3ms/step - loss: 15865836544.0000\n",
            "Epoch 57/100\n",
            "1502/1502 [==============================] - 5s 3ms/step - loss: 15865846784.0000\n",
            "Epoch 58/100\n",
            "1502/1502 [==============================] - 4s 3ms/step - loss: 15865841664.0000\n",
            "Epoch 59/100\n",
            "1502/1502 [==============================] - 4s 3ms/step - loss: 15865826304.0000\n",
            "Epoch 60/100\n",
            "1502/1502 [==============================] - 5s 4ms/step - loss: 15865845760.0000\n",
            "Epoch 61/100\n",
            "1502/1502 [==============================] - 4s 3ms/step - loss: 15865845760.0000\n",
            "Epoch 62/100\n",
            "1502/1502 [==============================] - 4s 3ms/step - loss: 15865823232.0000\n",
            "Epoch 63/100\n",
            "1502/1502 [==============================] - 5s 3ms/step - loss: 15865848832.0000\n",
            "Epoch 64/100\n",
            "1502/1502 [==============================] - 4s 3ms/step - loss: 15865850880.0000\n",
            "Epoch 65/100\n",
            "1502/1502 [==============================] - 4s 3ms/step - loss: 15865847808.0000\n",
            "Epoch 66/100\n",
            "1502/1502 [==============================] - 5s 3ms/step - loss: 15865849856.0000\n",
            "Epoch 67/100\n",
            "1502/1502 [==============================] - 4s 3ms/step - loss: 15865850880.0000\n",
            "Epoch 68/100\n",
            "1502/1502 [==============================] - 4s 3ms/step - loss: 15865844736.0000\n",
            "Epoch 69/100\n",
            "1502/1502 [==============================] - 5s 3ms/step - loss: 15865838592.0000\n",
            "Epoch 70/100\n",
            "1502/1502 [==============================] - 4s 3ms/step - loss: 15865838592.0000\n",
            "Epoch 71/100\n",
            "1502/1502 [==============================] - 4s 3ms/step - loss: 15865841664.0000\n",
            "Epoch 72/100\n",
            "1502/1502 [==============================] - 5s 3ms/step - loss: 15865832448.0000\n",
            "Epoch 73/100\n",
            "1502/1502 [==============================] - 4s 3ms/step - loss: 15865844736.0000\n",
            "Epoch 74/100\n",
            "1502/1502 [==============================] - 4s 3ms/step - loss: 15865865216.0000\n",
            "Epoch 75/100\n",
            "1502/1502 [==============================] - 5s 4ms/step - loss: 15865831424.0000\n",
            "Epoch 76/100\n",
            "1502/1502 [==============================] - 4s 3ms/step - loss: 15865828352.0000\n",
            "Epoch 77/100\n",
            "1502/1502 [==============================] - 4s 3ms/step - loss: 15865841664.0000\n",
            "Epoch 78/100\n",
            "1502/1502 [==============================] - 5s 3ms/step - loss: 15865853952.0000\n",
            "Epoch 79/100\n",
            "1502/1502 [==============================] - 4s 3ms/step - loss: 15865859072.0000\n",
            "Epoch 80/100\n",
            "1502/1502 [==============================] - 4s 3ms/step - loss: 15865850880.0000\n",
            "Epoch 81/100\n",
            "1502/1502 [==============================] - 5s 4ms/step - loss: 15865845760.0000\n",
            "Epoch 82/100\n",
            "1502/1502 [==============================] - 4s 3ms/step - loss: 15865852928.0000\n",
            "Epoch 83/100\n",
            "1502/1502 [==============================] - 4s 3ms/step - loss: 15865829376.0000\n",
            "Epoch 84/100\n",
            "1502/1502 [==============================] - 5s 4ms/step - loss: 15865847808.0000\n",
            "Epoch 85/100\n",
            "1502/1502 [==============================] - 4s 3ms/step - loss: 15865844736.0000\n",
            "Epoch 86/100\n",
            "1502/1502 [==============================] - 4s 3ms/step - loss: 15865837568.0000\n",
            "Epoch 87/100\n",
            "1502/1502 [==============================] - 5s 4ms/step - loss: 15865844736.0000\n",
            "Epoch 88/100\n",
            "1502/1502 [==============================] - 4s 3ms/step - loss: 15865846784.0000\n",
            "Epoch 89/100\n",
            "1502/1502 [==============================] - 4s 3ms/step - loss: 15865869312.0000\n",
            "Epoch 90/100\n",
            "1502/1502 [==============================] - 5s 3ms/step - loss: 15865856000.0000\n",
            "Epoch 91/100\n",
            "1502/1502 [==============================] - 4s 3ms/step - loss: 15865847808.0000\n",
            "Epoch 92/100\n",
            "1502/1502 [==============================] - 4s 3ms/step - loss: 15865856000.0000\n",
            "Epoch 93/100\n",
            "1502/1502 [==============================] - 5s 4ms/step - loss: 15865831424.0000\n",
            "Epoch 94/100\n",
            "1502/1502 [==============================] - 4s 3ms/step - loss: 15865852928.0000\n",
            "Epoch 95/100\n",
            "1502/1502 [==============================] - 4s 3ms/step - loss: 15865857024.0000\n",
            "Epoch 96/100\n",
            "1502/1502 [==============================] - 5s 4ms/step - loss: 15865843712.0000\n",
            "Epoch 97/100\n",
            "1502/1502 [==============================] - 4s 3ms/step - loss: 15865856000.0000\n",
            "Epoch 98/100\n",
            "1502/1502 [==============================] - 4s 3ms/step - loss: 15865841664.0000\n",
            "Epoch 99/100\n",
            "1502/1502 [==============================] - 5s 3ms/step - loss: 15865844736.0000\n",
            "Epoch 100/100\n",
            "1502/1502 [==============================] - 4s 3ms/step - loss: 15865846784.0000\n"
          ]
        },
        {
          "output_type": "execute_result",
          "data": {
            "text/plain": [
              "<keras.src.callbacks.History at 0x7f29d014ec20>"
            ]
          },
          "metadata": {},
          "execution_count": 43
        }
      ]
    },
    {
      "cell_type": "code",
      "source": [
        "# Avaliar o modelo\n",
        "score = model.evaluate(X_test, y_test, verbose=1)\n",
        "print('Erro médio quadrático:', score)"
      ],
      "metadata": {
        "id": "lAo1xmFHRokU",
        "colab": {
          "base_uri": "https://localhost:8080/"
        },
        "outputId": "1844f8f6-07ab-40ce-ef80-883120c7b560"
      },
      "execution_count": 44,
      "outputs": [
        {
          "output_type": "stream",
          "name": "stdout",
          "text": [
            "118/118 [==============================] - 0s 2ms/step - loss: 20799395840.0000\n",
            "Erro médio quadrático: 20799395840.0\n"
          ]
        }
      ]
    },
    {
      "cell_type": "code",
      "source": [
        "# Fazer previsões\n",
        "previsoes = model.predict(X_test)"
      ],
      "metadata": {
        "id": "PTSn3LYKR10U",
        "colab": {
          "base_uri": "https://localhost:8080/"
        },
        "outputId": "e2922683-f1c1-4ef7-aaa6-ba313325b15e"
      },
      "execution_count": 45,
      "outputs": [
        {
          "output_type": "stream",
          "name": "stdout",
          "text": [
            "118/118 [==============================] - 0s 1ms/step\n"
          ]
        }
      ]
    },
    {
      "cell_type": "code",
      "source": [
        "# Calcular a diferença entre as colunas QUANT da tabela de entrada e de saída\n",
        "diferenca_estoque_real = tabela_entrada['QUANT'].sum() - tabela_saida['QUANT'].sum()\n",
        "print('Diferença entre as quantidades da entrada e saida no estoque,',diferenca_estoque_real)"
      ],
      "metadata": {
        "id": "YlSfomBHR7tF",
        "colab": {
          "base_uri": "https://localhost:8080/"
        },
        "outputId": "96e5ad1d-77c1-4089-8e39-edea76710970"
      },
      "execution_count": 46,
      "outputs": [
        {
          "output_type": "stream",
          "name": "stdout",
          "text": [
            "Diferença entre as quantidades da entrada e saida no estoque, 7464210586\n"
          ]
        }
      ]
    },
    {
      "cell_type": "code",
      "source": [
        "from sklearn.metrics import accuracy_score\n",
        "from scipy.stats import gaussian_kde\n",
        "\n",
        "# Calculando a diferença entre as quantidades da entrada e saída\n",
        "diferenca_estoque_real = tabela_entrada['QUANT'].sum() - tabela_saida['QUANT'].sum()\n",
        "\n",
        "# Plotando a densidade das quantidades\n",
        "densidade_entrada = gaussian_kde(tabela_entrada['QUANT'])\n",
        "densidade_saida = gaussian_kde(tabela_saida['QUANT'])\n",
        "x_vals = np.linspace(min(tabela_entrada['QUANT'].min(), tabela_saida['QUANT'].min()),\n",
        "                     max(tabela_entrada['QUANT'].max(), tabela_saida['QUANT'].max()),\n",
        "                     100)\n",
        "\n",
        "plt.plot(x_vals, densidade_entrada(x_vals), label='Densidade de QUANT na Entrada')\n",
        "plt.plot(x_vals, densidade_saida(x_vals), label='Densidade de QUANT na Saída')\n",
        "plt.xlabel('Quantidade')\n",
        "plt.ylabel('Densidade')\n",
        "plt.title('Gráfico de Densidade das Quantidades de Entrada e Saída')\n",
        "plt.legend()\n",
        "plt.show()\n",
        "\n",
        "# Calculando a acurácia (se aplicável)\n",
        "# Aqui você deve substituir previsões e rótulos_verdadeiros com seus próprios dados\n",
        "# Se não estiver trabalhando com classificação, você pode ignorar esta parte\n",
        "# previsoes = ...\n",
        "# rótulos_verdadeiros = ...\n",
        "# acuracia = accuracy_score(rótulos_verdadeiros, previsoes)\n",
        "\n",
        "# Exibindo a diferença entre as quantidades e a acurácia\n",
        "print('Diferença entre as quantidades da entrada e saída no estoque:', diferenca_estoque_real)\n",
        "# print('Acurácia do modelo:', acuracia)  # Descomente esta linha se tiver dados de acurácia\n"
      ],
      "metadata": {
        "colab": {
          "base_uri": "https://localhost:8080/",
          "height": 504
        },
        "id": "AOLjp_7wIw8H",
        "outputId": "fb975490-f943-48a3-8f49-582fbe16f24a"
      },
      "execution_count": 50,
      "outputs": [
        {
          "output_type": "display_data",
          "data": {
            "text/plain": [
              "<Figure size 640x480 with 1 Axes>"
            ],
            "image/png": "[encoded data removed]"
          },
          "metadata": {}
        },
        {
          "output_type": "stream",
          "name": "stdout",
          "text": [
            "Diferença entre as quantidades da entrada e saída no estoque: 7464210586\n"
          ]
        }
      ]
    },
    {
      "cell_type": "code",
      "source": [
        "print('FIM ')"
      ],
      "metadata": {
        "id": "ifV2rw3eSUsp",
        "colab": {
          "base_uri": "https://localhost:8080/"
        },
        "outputId": "90c0b8fc-4c8c-4db5-d646-20a13cf198be"
      },
      "execution_count": 47,
      "outputs": [
        {
          "output_type": "stream",
          "name": "stdout",
          "text": [
            "FIM \n"
          ]
        }
      ]
    },
    {
      "cell_type": "code",
      "source": [],
      "metadata": {
        "id": "yQAhfI16TWyM"
      },
      "execution_count": null,
      "outputs": []
    }
  ],
  "metadata": {
    "colab": {
      "provenance": [],
      "gpuType": "T4"
    },
    "kernelspec": {
      "display_name": "Python 3",
      "name": "python3"
    },
    "language_info": {
      "name": "python"
    },
    "accelerator": "GPU"
  },
  "nbformat": 4,
  "nbformat_minor": 0
}